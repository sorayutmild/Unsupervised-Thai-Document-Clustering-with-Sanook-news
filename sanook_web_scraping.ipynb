{
 "cells": [
  {
   "cell_type": "code",
   "execution_count": null,
   "metadata": {},
   "outputs": [],
   "source": [
    "import requests\n",
    "import pandas as pd\n",
    "from bs4 import BeautifulSoup\n",
    "from selenium import webdriver\n",
    "from selenium.webdriver.chrome.options import Options\n",
    "import time\n",
    "from selenium.webdriver.common.by import By\n",
    "from selenium.webdriver.common.keys import Keys\n",
    "from sanook_scraping_function import web_loading, find_title_date_views_driver, dowload_web_to_text\n",
    "from tqdm import tqdm\n",
    "import os "
   ]
  },
  {
   "cell_type": "code",
   "execution_count": 15,
   "metadata": {},
   "outputs": [],
   "source": [
    "urls = {\n",
    "        'อาชญากรรม':'https://www.sanook.com/news/tag/อาชญากรรม/', \n",
    "        'การเมือง': 'https://www.sanook.com/news/tag/การเมือง/', \n",
    "        'ข่าวการเงิน': 'https://www.sanook.com/money/archive/', \n",
    "        'ข่าวไอที': 'https://www.sanook.com/hitech/archive/', \n",
    "        'ข่าวกีฬา': 'https://www.sanook.com/sport/archive/', \n",
    "        'สุขภาพ': 'https://www.sanook.com/health/archive/', \n",
    "        'ดูดวง': 'https://www.sanook.com/horoscope/archive/',\n",
    "        'ข่าวบันเทิง': 'https://www.sanook.com/news/archive/entertain/',\n",
    "        'ข่าวรถยนต์': 'https://www.sanook.com/auto/archive/',\n",
    "        'ข่าวเกมส์': 'https://www.sanook.com/game/archive/',\n",
    "        }"
   ]
  },
  {
   "cell_type": "code",
   "execution_count": null,
   "metadata": {},
   "outputs": [],
   "source": [
    "search_title = \"//div[@class='jsx-3504035561 archive-post-col col-12 col-md-6']/article/div[2]/div/h3/span/a\"\n",
    "search_date = \"//div[@class='jsx-3504035561 archive-post-col col-12 col-md-6']/article/div[2]/footer/time/span\"\n",
    "search_view = \"//div[@class='jsx-3504035561 archive-post-col col-12 col-md-6']/article/div[2]/footer/small/span[2]\""
   ]
  },
  {
   "cell_type": "code",
   "execution_count": null,
   "metadata": {},
   "outputs": [],
   "source": [
    "# def dowload_web_to_text(url, file_path):\n",
    "#     '''\n",
    "#     url : link to news page (final link)\n",
    "#     '''\n",
    "#     page = requests.get(url)\n",
    "#     soup = BeautifulSoup(page.text, 'html.parser')\n",
    "#     try:\n",
    "#         text_document = soup.find('div', id='EntryReader_0').text\n",
    "#     except Exception as e:\n",
    "#         text_document= ''\n",
    "#         print(f'error to scrape this page text {url} because', e)\n",
    "        \n",
    "#     # return text_document\n",
    "#     with open(file_path, 'w', encoding=\"utf-8\") as f:\n",
    "#         f.write(text_document)"
   ]
  },
  {
   "cell_type": "code",
   "execution_count": null,
   "metadata": {},
   "outputs": [],
   "source": [
    "text_folder = './text_files/'\n",
    "os.makedirs(text_folder, exist_ok=True)"
   ]
  },
  {
   "cell_type": "code",
   "execution_count": null,
   "metadata": {},
   "outputs": [],
   "source": [
    "for name, url in zip(urls.keys(), urls.values()): # zip([''], ['https://www.sanook.com/horoscope/archive/']): # \n",
    "    file_name = 1\n",
    "    results = {\n",
    "        'Title':[],\n",
    "        'Link': [],\n",
    "        'Date': [],\n",
    "        'Views': [],\n",
    "        'File_name': [],\n",
    "        'Label': []\n",
    "    }\n",
    "    \n",
    "    print(name)\n",
    "    # load web page\n",
    "    driver = web_loading(url=url, scroll_pause_time=0.2, load_round=500, headless=False)\n",
    "\n",
    "    # extract information (driver form)\n",
    "    titles_dri, dates_dri, views_dri = find_title_date_views_driver(driver=driver, search_title=search_title, \n",
    "                                                                search_date=search_date, search_view=search_view)\n",
    "\n",
    "    # driver to text\n",
    "    print(f'number of records: {len(titles_dri)}')\n",
    "    for title_dri, date_dri, view_dri in tqdm(zip(titles_dri, dates_dri, views_dri)):\n",
    "        link = title_dri.get_attribute('href')\n",
    "        results['Views'].append(view_dri.text)\n",
    "        results['Link'].append(link)\n",
    "        \n",
    "        # ret = retrive_page_info(url=link)\n",
    "        # text = retrieve_page_text(link)\n",
    "        # results['Document'].append(text)\n",
    "        dowload_web_to_text(link, file_path=os.path.join(text_folder, name+'_'+str(file_name)+'.txt'))\n",
    "        results['File_name'].append(name+'_'+str(file_name)+'.txt')\n",
    "        \n",
    "        results['Title'].append(title_dri.text)\n",
    "        results['Date'].append(date_dri.text)\n",
    "        # title = ret.retrieve_title()\n",
    "        # results['Title'].append(title)\n",
    "        \n",
    "        # datetime = ret.retrieve_datetime()\n",
    "        # results['Datetime'].append(datetime)\n",
    "        \n",
    "        results['Label'].append(name)\n",
    "        \n",
    "        file_name += 1\n",
    "        \n",
    "    df = pd.DataFrame(results)\n",
    "    df.to_csv(f'sanook_news_{name}.csv', index=False, encoding='utf-8-sig')"
   ]
  },
  {
   "cell_type": "code",
   "execution_count": 16,
   "metadata": {},
   "outputs": [],
   "source": [
    "import pandas as pd\n",
    "import glob"
   ]
  },
  {
   "cell_type": "code",
   "execution_count": null,
   "metadata": {},
   "outputs": [],
   "source": [
    "li = []\n",
    "for csv_file in glob.glob('sanook_news_*.csv'):\n",
    "    df = pd.read_csv(csv_file).dropna()\n",
    "    li.append(df)\n",
    "\n",
    "df = pd.concat(li, axis=0, ignore_index=True)\n",
    "df.info()"
   ]
  },
  {
   "cell_type": "code",
   "execution_count": null,
   "metadata": {},
   "outputs": [],
   "source": [
    "df[df['Label']=='ข่าวรถยนต์']"
   ]
  },
  {
   "cell_type": "code",
   "execution_count": null,
   "metadata": {},
   "outputs": [],
   "source": [
    "df['Label'].value_counts()"
   ]
  },
  {
   "cell_type": "code",
   "execution_count": null,
   "metadata": {},
   "outputs": [],
   "source": [
    "df.to_csv('sanook_news_all.csv', index=False, encoding='utf-8-sig')"
   ]
  }
 ],
 "metadata": {
  "kernelspec": {
   "display_name": "Python 3.8.5 ('venv': venv)",
   "language": "python",
   "name": "python3"
  },
  "language_info": {
   "codemirror_mode": {
    "name": "ipython",
    "version": 3
   },
   "file_extension": ".py",
   "mimetype": "text/x-python",
   "name": "python",
   "nbconvert_exporter": "python",
   "pygments_lexer": "ipython3",
   "version": "3.8.5"
  },
  "orig_nbformat": 4,
  "vscode": {
   "interpreter": {
    "hash": "37f807072d32f2219a1ed67827323fbd7fa042f0370c2b71a4f0632633aded84"
   }
  }
 },
 "nbformat": 4,
 "nbformat_minor": 2
}
